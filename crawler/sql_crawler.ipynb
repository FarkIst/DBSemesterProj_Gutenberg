{
 "cells": [
  {
   "cell_type": "code",
   "execution_count": 1,
   "metadata": {},
   "outputs": [],
   "source": [
    "import re\n",
    "import MySQLdb\n",
    "import csv\n",
    "import codecs"
   ]
  },
  {
   "cell_type": "code",
   "execution_count": 58,
   "metadata": {},
   "outputs": [
    {
     "name": "stdout",
     "output_type": "stream",
     "text": [
      "done\n"
     ]
    }
   ],
   "source": [
    "cities_insert_path = 'sql/insert_cities.sql'\n",
    "cities_insert_file = codecs.open(cities_insert_path, 'w','utf-8')\n",
    "with open(\"example_data/cities/cities5000.txt\", encoding=\"utf-8\") as f:\n",
    "    reader = csv.reader(f, delimiter=\"\\t\")\n",
    "    rows = list(reader)\n",
    "    for row in rows:\n",
    "        cities_insert_file.write(\"INSERT INTO `gutenberg`.`cities` (`name`, `latitude`, `longitude`) VALUES ('\" + re.escape(row[1]) + \"', '\" + row[4] + \"', '\" + row[5] + \"');\\n\")    \n",
    "print(\"done\")"
   ]
  },
  {
   "cell_type": "code",
   "execution_count": null,
   "metadata": {},
   "outputs": [],
   "source": [
    "# THIS WOULD BE THE CORRECT VERSION BUT IT BREAKS THE KERNEL\n",
    "cities_insert_path = 'sql/insert_cities.sql'\n",
    "cities_insert_file = codecs.open(cities_insert_path, 'w','utf-8')\n",
    "with open(\"example_data/cities/cities5000.txt\", encoding=\"utf-8\") as f:\n",
    "    reader = csv.reader(f, delimiter=\"\\t\")\n",
    "    rows = list(reader)\n",
    "    for row in rows:\n",
    "        cities_insert_file.write(\"INSERT INTO `gutenberg`.`cities` (`name`, `latitude`, `longitude`) VALUES ('\" + MySQLdb.escape_string(row[1]) + \"', '\" + row[4] + \"', '\" + row[5] + \"');\\n\")    \n",
    "print(\"done\")"
   ]
  },
  {
   "cell_type": "code",
   "execution_count": 8,
   "metadata": {},
   "outputs": [
    {
     "name": "stdout",
     "output_type": "stream",
     "text": [
      "done\n"
     ]
    }
   ],
   "source": [
    "SRE_MATCH_TYPE = type(re.match(\"\", \"\"))\n",
    "\n",
    "books_csv_path = 'example_data/books/books.csv'\n",
    "books_csv_file = codecs.open(books_insert_path, 'w','utf-8')\n",
    "books_csv_file.write(\"Author,Title\\n\")\n",
    "for i in range(1, 59594):\n",
    "    rdf_file_path = 'example_data/books/catalog_rdf/' + str(i) + '/pg' + str(i) + '.rdf'\n",
    "    try:\n",
    "        rdf_file = open(rdf_file_path, \"r\", encoding=\"utf-8\")  \n",
    "        text = rdf_file.read()\n",
    "\n",
    "        author_res = re.search(\"name>(.*)<\", text)\n",
    "        if (type(author_res) is SRE_MATCH_TYPE):\n",
    "            author = author_res.group(0)[5:-1]\n",
    "        else:\n",
    "            author = \"Not Found\";\n",
    "        title_res = re.search(\"title>(.*)<\", text)\n",
    "        if (type(title_res) is SRE_MATCH_TYPE):\n",
    "            title = title_res.group(0)[6:-1]\n",
    "        else:\n",
    "            continue\n",
    "#         print(author)\n",
    "#         print(title)\n",
    "#         print(i)\n",
    "#         print(re.escape(author) + \",\" + re.escape(title) + \"\\n\")\n",
    "        books_csv_file.write(re.escape(author) + \",\" + re.escape(title) + \"\\n\")\n",
    "    except FileNotFoundError:\n",
    "        continue\n",
    "    \n",
    "print(\"done\")"
   ]
  },
  {
   "cell_type": "code",
   "execution_count": null,
   "metadata": {},
   "outputs": [],
   "source": [
    "books_insert_path = 'sql/insert_books.sql'\n",
    "books_insert_file = codecs.open(books_insert_path, 'w','utf-8')\n",
    "    \n",
    "books_insert_file.write(\"INSERT INTO `gutenberg`.`books` (`author`, `title`) VALUES ('\" + re.escape(author) + \"', '\" + re.escape(title) + \"');\\n\")"
   ]
  }
 ],
 "metadata": {
  "kernelspec": {
   "display_name": "Python 3",
   "language": "python",
   "name": "python3"
  },
  "language_info": {
   "codemirror_mode": {
    "name": "ipython",
    "version": 3
   },
   "file_extension": ".py",
   "mimetype": "text/x-python",
   "name": "python",
   "nbconvert_exporter": "python",
   "pygments_lexer": "ipython3",
   "version": "3.6.4"
  }
 },
 "nbformat": 4,
 "nbformat_minor": 2
}
