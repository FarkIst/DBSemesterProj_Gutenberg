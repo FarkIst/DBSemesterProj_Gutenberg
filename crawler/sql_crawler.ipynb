{
 "cells": [
  {
   "cell_type": "code",
   "execution_count": 4,
   "metadata": {},
   "outputs": [],
   "source": [
    "# COMMON IMPORTS\n",
    "import re\n",
    "import csv\n",
    "import codecs"
   ]
  },
  {
   "cell_type": "code",
   "execution_count": 2,
   "metadata": {},
   "outputs": [],
   "source": [
    "import mysql.connector\n",
    "from mysql.connector import errorcode\n",
    "\n",
    "try:\n",
    "  cnx = mysql.connector.connect(user='root', \n",
    "                                password='root',\n",
    "                                host='127.0.0.1',\n",
    "                                database='gutenberg')\n",
    "except mysql.connector.Error as err:\n",
    "  if err.errno == errorcode.ER_ACCESS_DENIED_ERROR:\n",
    "    print(\"Something is wrong with your user name or password\")\n",
    "  elif err.errno == errorcode.ER_BAD_DB_ERROR:\n",
    "    print(\"Database does not exist\")\n",
    "  else:\n",
    "    print(err)\n",
    "else:\n",
    "  cnx.close()"
   ]
  },
  {
   "cell_type": "code",
   "execution_count": 31,
   "metadata": {},
   "outputs": [
    {
     "name": "stdout",
     "output_type": "stream",
     "text": [
      "done\n"
     ]
    }
   ],
   "source": [
    "# MAKE CSV WITH CITIES DATA\n",
    "cities_insert_path = 'example_data/cities/simple_cities.csv'\n",
    "cities_insert_file = codecs.open(cities_insert_path, 'w+', 'utf-8')\n",
    "with open(\"example_data/cities/cities15000.txt\", encoding=\"utf-8\") as f:\n",
    "    reader = csv.reader(f, delimiter=\"\\t\")\n",
    "    rows = list(reader)\n",
    "    for row in rows:\n",
    "        cities_insert_file.write(row[1] + \",\" + row[2] + \",\" + row[4] + \",\" + row[5] + \",\" + row[0] + \"\\n\")    \n",
    "print(\"done\")"
   ]
  },
  {
   "cell_type": "code",
   "execution_count": null,
   "metadata": {},
   "outputs": [],
   "source": [
    "# INSERT CITIES CSV IN DB\n",
    "# cities_insert_path = 'sql/insert_cities.sql'\n",
    "# cities_insert_file = codecs.open(cities_insert_path, 'w','utf-8')\n",
    "\n",
    "# cities_insert_file.write(\"INSERT INTO `gutenberg`.`cities` (`name`, `latitude`, `longitude`) VALUES ('\" + re.escape(row[1]) + \"', '\" + row[4] + \"', '\" + row[5] + \"');\\n\")    "
   ]
  },
  {
   "cell_type": "code",
   "execution_count": 8,
   "metadata": {},
   "outputs": [],
   "source": [
    "# MAKE CSV WITH BOOKS DATA\n",
    "# SRE_MATCH_TYPE = type(re.match(\"\", \"\"))\n",
    "\n",
    "# books_csv_path = 'example_data/books/books.csv'\n",
    "# books_csv_file = codecs.open(books_csv_path, 'w+','utf-8')\n",
    "# for i in range(1, 59594):\n",
    "#     rdf_file_path = 'example_data/books/catalog_rdf/' + str(i) + '/pg' + str(i) + '.rdf'\n",
    "#     try:\n",
    "#         rdf_file = open(rdf_file_path, \"r\", encoding=\"utf-8\")  \n",
    "#         text = rdf_file.read()\n",
    "\n",
    "#         author_res = re.search(\"name>(.*)<\", text)\n",
    "#         if (type(author_res) is SRE_MATCH_TYPE):\n",
    "#             author = author_res.group(0)[5:-1]\n",
    "#         else:\n",
    "#             author = \"Not Found\";\n",
    "#         title_res = re.search(\"title>(.*)<\", text)\n",
    "#         if (type(title_res) is SRE_MATCH_TYPE):\n",
    "#             title = title_res.group(0)[6:-1]\n",
    "#         else:\n",
    "#             continue\n",
    "#         print(author)\n",
    "#         print(title)\n",
    "# #         print(i)\n",
    "#         books_csv_file.write(author + \"\\t\" + title + \"\\n\")\n",
    "#     except FileNotFoundError:\n",
    "#         continue\n",
    "    \n",
    "# print(\"done\")\n",
    "\n",
    "# NEEDS TO BE REMADE FROM THE ACTUAL BOOKS SO WE GET THE FILE NUMBER\n",
    "# THAT WE CAN REFERENCE LATER WITH THE TAGS TO GET THE CITY MENTIONS"
   ]
  },
  {
   "cell_type": "code",
   "execution_count": null,
   "metadata": {},
   "outputs": [],
   "source": [
    "# INSERT BOOKS FROM CSV TO SQL DB\n",
    "# books_insert_path = 'sql/insert_books.sql'\n",
    "# books_insert_file = codecs.open(books_insert_path, 'w','utf-8')\n",
    "    \n",
    "# books_insert_file.write(\"INSERT INTO `gutenberg`.`books` (`author`, `title`) VALUES ('\" + re.escape(author) + \"', '\" + re.escape(title) + \"');\\n\")"
   ]
  },
  {
   "cell_type": "code",
   "execution_count": 33,
   "metadata": {},
   "outputs": [
    {
     "name": "stdout",
     "output_type": "stream",
     "text": [
      "['Hiawatha Down', 'Hiawatha Drag', 'Minnehaha Flash', 'United States', 'Fort Snelling', 'U.S.', 'Hiawatha Sang', 'Hiawatha Bore', 'Minnehaha Calling', 'Wawa', 'Nokomis Brought', 'Nokomis', 'Hiawatha Throbbed', 'Kabibonokka', 'Osseo', 'Hiawatha Saw', 'Mississippi', 'Hiawatha With', 'Dacotah', 'Hiawatha Gone', 'Michigan', 'South-Wind', 'United States. U.S.', 'Hiawatha', 'Nokomis Grew', 'United States.', 'HIAWATHA', 'Hiawatha Show']\n"
     ]
    }
   ],
   "source": [
    "# MAKE CSV WITH ALL LOCATION LABELLED TEXT FOR EACH BOOK AND CROSS REFFERENCE TO CITIES\n",
    "import nltk\n",
    "from nltk.tag import StanfordNERTagger\n",
    "from itertools import groupby\n",
    "\n",
    "nltk.internals.config_java(\"C:/Program Files/Java/jdk1.8.0_212/bin/java.exe\")\n",
    "st = StanfordNERTagger(model_filename='stanford_ner/english.all.3class.distsim.crf.ser.gz', path_to_jar='stanford_ner/stanford-ner-3.9.2.jar')\n",
    "\n",
    "books_cities_csv_path = 'example_data/books_cities.csv'\n",
    "books_cities_csv_file = codecs.open(books_cities_csv_path, 'w+','utf-8')\n",
    "\n",
    "books\n",
    "for i in range(1, 59594):\n",
    "    book_file_path = 'example_data/books/' + str(i) + '.txt'\n",
    "    try:\n",
    "        book_file = open(book_file_path, \"r\", encoding=\"utf-8\")  \n",
    "        book_text = rdf_file.read()\n",
    "        \n",
    "        netagged_words = st.tag(book_text.split())\n",
    "\n",
    "        book_locations = []\n",
    "        for tag, chunk in groupby(netagged_words, lambda x:x[1]):\n",
    "            if tag == \"LOCATION\":\n",
    "                location_name = \" \".join(w for w, t in chunk)\n",
    "                book_locations.append(location_name)\n",
    "        \n",
    "print(list(set(book_locations)))"
   ]
  },
  {
   "cell_type": "code",
   "execution_count": null,
   "metadata": {},
   "outputs": [],
   "source": []
  }
 ],
 "metadata": {
  "kernelspec": {
   "display_name": "Python 3",
   "language": "python",
   "name": "python3"
  },
  "language_info": {
   "codemirror_mode": {
    "name": "ipython",
    "version": 3
   },
   "file_extension": ".py",
   "mimetype": "text/x-python",
   "name": "python",
   "nbconvert_exporter": "python",
   "pygments_lexer": "ipython3",
   "version": "3.6.4"
  }
 },
 "nbformat": 4,
 "nbformat_minor": 2
}
